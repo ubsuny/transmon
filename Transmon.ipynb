{
 "cells": [
  {
   "cell_type": "markdown",
   "id": "e7776671-5542-4aed-98c0-914925b6cb3b",
   "metadata": {},
   "source": [
    "# A Brief Introduction to Transmon Physics"
   ]
  },
  {
   "cell_type": "markdown",
   "id": "c9ef2275-25e5-446d-bbed-f19b870e510c",
   "metadata": {
    "tags": []
   },
   "source": [
    "### 1. Why transmon and what is it?\n",
    "Computer is everwhere right now, and I'm sitting right in front of one as I'm writing this. Behind the fancy colorful images and videos on the computer screen and myriad of functions of a computer, the basic building blocks of a computer is very simple, just something that can be either in the 0 state or the 1 state. But what are these things that can do 0's and 1's you may ask. Inside the computers, these things are just tiny capacitors. Capacitors are essentially two separate plates,to put it simply (not accurately :P) and when the capacitor has no charge on it, it is in the 0 state. When the capacitor has charge accumulated on it then it is in the 1 state. Each individual bit on a computer can be thought of as a single capacitor, it can be either 0 or 1.\n",
    "</p>\n",
    "\n",
    "<img src=\"https://static.techspot.com/articles-info/2024/images/2020-05-21-image.png\" alt=\"A singke bit in a computer\" width=\"200\"/>\n",
    "(Image 1. A singke bit in a computer. The capacitor can be in either 0 or 1 state depending on whether it is uncharged or charged. The transistor kind of reports the state of the capacitor to the other bits in the circuit :P Image is from https://www.techspot.com/amp/article/2024-anatomy-ram/ [1])\n",
    "</p>\n",
    "\n",
    "To build a quantum computer we can also start with something that can be in two possible states, we can call such a component inside the quantum computer a quantum bit, or qubit. Qubit differs from the classical bit in a special way, since it is a QUANTUM computer we're talking about, this component is not nessarily in a well defined state such as 0 or 1. But instead it could be in a superposition of these two states, very much like Schrodinger's cat. So is such a component possible in real life? Well, transmon is a qubit! Transmon stands for \"transmission line shunted plasma oscillation qubit\", a rather long and uninformative name. We will devote the next section on the physics of transmon, and hopefully at the end of it you will be illuminated on why it is called \"transmission line shunted plasma oscillation qubit\"!   \n",
    "\n"
   ]
  },
  {
   "cell_type": "markdown",
   "id": "cccafa24-ca35-466e-b62d-540cebf8e16f",
   "metadata": {},
   "source": [
    "### 2. Physics of Transmon\n",
    "\n",
    "Before we get to the structure of a transmon, you might ask why can't we just use the capacitor in a normal computer and somehow treat it like a qubit? Remember our qubit is like Schrodinger's cat, it can be in either of two possible states. But that superposition state will collapse into a definite state once we observe Schrodinger's cat. \n",
    "</p>\n",
    "<img src=\"https://media-cldnry.s-nbcnews.com/image/upload/t_fit-2000w,f_auto,q_auto:best/streams/2013/July/130723/6C8356939-130722-science-cat-720p.jpg\" alt=\"Schrodinger's cat\" width=\"200\"/>\n",
    "(Image 2. Schrodinger's cat. It is in a superposition state until we decide to open the box and look at it. Image is from https://www.nbcnews.com/sciencemain/bizarre-schrodingers-cat-comes-alive-new-experiments-6c10713858 [2])\n",
    "</p>\n",
    "\n",
    "In the case of the classical bit, it is not us humans observing the qubit thus causing it to collapse into one definite state, but the wires themselves! It is strange and I could not fully understand it, but the interaction between the capacitor and the surrounding wires acts like an observation. So once the charges accumulated on the capacitor travels in the wire and hits an ion in the wire, the game is up, its secret is revealed, and the capacitor will no longer be in a superposition state, it will either be 0 or 1. (This idea that the collision inside the wire behaves like oberservations is from the Youtube video https://www.youtube.com/watch?v=dKTNBN99xLw&list=PLAhINpcDC3s_d7sizCthT89lf2RiOcQJd&index=3&ab_channel=DanielSank [3])\n",
    "</p>\n",
    "\n",
    "So how can we preserve the superposition state and prevent the charges on the capacitor from hitting the ions in the wire? We use supercondutors! In a superconductor, the electrons move through the wire without any collision. So no \"observation\" happens, and the qubit we have will stay in a superposition state. Now we are ready to have a look at the structure of a transmon. (So far it is like a mystery to us, since I've only told you what it is used for and what its name means.)\n",
    "</p>\n",
    "<img src=\"./transmon.png\" alt=\"Transmon\" width=\"200\"/>\n",
    "(Image 3. A simplified diagram of a transmon. Image is from \"A quantum engineer's guide to superconducting qubits\" by P. Krantz et al.,Applied Physics Reviews 6, 021318 (2019)[4])\n",
    "</p>\n",
    "\n",
    "In the diagram above we see that in comparison to a classical bit where the information of the state is stored on a capacitor, now we have another component connected in paralell to the capacitor. The box with a cross inside symbolizes a Josephson junction. A Josephson junction is made of two superconducting blocks (such as Aluminum) sandwiching an insulating material between them (such as Aluminum oxide). Inside the the superconducting block, as mentioned earlier, electrons can flow around and never collide with the ions. They are able to do that because the electrons in fact pair up into what we call Cooper pairs. Like dancing partners in a Waltz dance, the two electron are able to dance their way though the material without colliding with the ions. When they hit the insulating material, due to quantum mechanics, they have a certain possibility to jump across the isuling meterial and arrive at the other superconducting material and continue dancing! In effect, one can liken the Josephson junction to an inductor in the classical circuit (but with a very important difference as we shall see in the next section), current is able to flow through the Josephson junction, and the current is carried by the Cooper pairs. There is a magnetic field around the Josephson junction, similar to the fact that there is a magnetic field around a classical inductor. Although I won't go into the details, it is important just to imagine for now that both the Josephson junction and a classical inductor have currents flowing through them and has magnetic fields around them, the finer details will not be too important. :P \n",
    "</p>\n",
    "\n",
    "If we regard the Josephson junction as an inductor, then the whole transmon structure is like an LC circuit, and we know an LC circuit can behave like an oscillator, with the total energy inside the circuit oscillating between the inductor and the capacitor. Hence I hope part of the mystery surrounding the full name of transmon \"transmission line shunted plasma oscillation qubit\" can be slightly illuminated, essentially, it is able to oscillate like an LC circuit. :)\n",
    "\n",
    "Let's talk about oscillations in the LC circuit first, then we will talk about the oscillation in the transmon, and we shall see there is an important difference between a classical inductor and a Josephson junction. Unfortunately we will encounter some heavy mathematics if we want to delve deeper:\n",
    "\n",
    "<img src=\"./LC.png\" alt=\"LC\" width=\"200\"/>\n",
    "(Image 4. A simplified diagram of an LC circuit. Image is from \"A quantum engineer's guide to superconducting qubits\" by P. Krantz et al.,Applied Physics Reviews 6, 021318 (2019)[4])\n",
    "</p>\n",
    "\n",
    "The total energy of an LC circuit is given by:\n",
    "$$\n",
    "\\mathcal{H} = \\frac{Q^2}{2C} + \\frac{\\Phi^2}{2L}\n",
    "$$\n",
    "\n",
    "Where $H$ stands for the total energy in the system, or the Hamiltonian. $Q$ is the amount of charge stored on the capacitor. And $\\Phi$ is the magnetic flux in the inductor.\n",
    "\n",
    "This expression is sometimes rewritten as: \n",
    "$$\n",
    "\\mathcal{H} = \\frac{Q^2}{2C} + \\frac{1}{2}C\\omega^2\\Phi^2\n",
    "$$\n",
    "\n",
    "where $\\frac{1}{LC} = \\omega^2$, and $\\omega$ is the resonant frequency for the LC circuit. The point is that we could see more easily the similarity between the LC circuit and a harmonic oscillator; imagine $Q$ taking the place of $P$ the momentum; $C$ taking the place of mass $m$; $\\Phi$ taking the place of displacement $x$.\n",
    "(This idea is from the youtube video https://www.youtube.com/watch?v=t5nxusm_Umk&ab_channel=InstituteforQuantumComputing [5])\n",
    "\n",
    "In quantum mechanics, the energy levels of a hamonic oscillator is no longer continuous. Rather it becmomes discrete. The way to calculate the discrete energy levels is by elevating some terms in our orginal expression for the total energy to the status of operators. In simplers terms you can think of operators as matrices, the discrete energy levels would be eigenvectors of these matrices and their eigenvalues would thus be the discrete energy levels. The fact that this schemes works is quite surprising, turning quantum mechanics into linear algebra. In the case of the LC circuit we will promote the Hamiltonian $H$ the charge $Q$, and $\\Phi$ to the status of operators. The Hamiltonian for the LC circuit is as follows: \n",
    "$$\n",
    "\\hat{H} = \\frac{\\hat{Q}^2}{2C} + \\frac{\\hat{\\Phi}^2}{2L},\n",
    "$$\n",
    "\n",
    "To find the eigenvalues of the Hamiltonian operator $\\hat{H}$, I'm borrowing the approach from https://qiskit.org/textbook/ch-quantum-hardware/transmon-physics.html [6] Later the code is also borrowed from the same source. To start, we will redefine our operators as follows: $\\hat{n} = \\hat{Q}/2e$ this is because we know that the charge is carried by Copper pairs, and each cooper pair has two electrons, so $\\hat{n}$ will be the operator that counts the number of Cooper pairs passing throught the Josephson Junction. $\\hat{\\phi} = 2\\pi\\hat{\\Phi}/\\Phi_0$, in a similar spirit, $\\Phi_0 = h/2e$ is the quanta for the magnetic flux, like the Cooper pairs are the quanta for the charge. Then the Hamiltonian can be rewritten as: \n",
    "\n",
    "$$ \n",
    "\\hat{H}_{\\rm QHO}= 4E_c\\hat{n}^2 + \\frac{1}{2} E_J \\hat{\\phi}^2\n",
    "$$\n",
    "\n",
    "where $E_c = e^2/2C$, and $E_J = (\\Phi_0/2\\pi)^2/L$. The changes in variables are important because the factor $\\frac{E_J}{E_c}$ is of particular interest to the researchers in the field. Essentially, the larger this factor is the less prone to environmental noise is the transmon, and since $E_c$ is inversely proportional to the capacitance, it means the larger the capacitance, the less sensitive the transmon to the environmental noise. (\"Charge-insensitive qubit design derived from the Cooper pair box\" J. Koch et al.,Phys. Rev. A 76, 042319, 2007 [7])\n",
    "\n",
    "So this is the Hamiltonian for the LC circuit, we will solve it numerically. But what about the Hamiltonian for the transmon? Using the same set of variables and operators, we can write the Hamiltonian of the transmon as follows [6]:\n",
    "\n",
    "$$\n",
    "\\hat{H}_{\\rm tr} = 4E_c \\hat{n}^2 - E_J \\cos \\hat{\\phi},\n",
    "$$\n",
    "\n",
    "The first term looks the same as the Hamiltonian for the LC circuit, but the second term is very different. While the second term in the LC circuit is quadratic, the second term in the transmon Hamiltonian goes as a cosine function. The big difference between the Josephson junction and an inductor comes into play here. While the current in the inductor changes linearly with the flux $I = \\frac{\\Phi}{L}$, the current in the Josephson junction changes non-liearly with the flux. (https://en.wikipedia.org/wiki/Josephson_effect [8])\n",
    "\n",
    "In the next section, we will solve for the eignvalues of the two Hamiltonians, and see how the non-linearity term makes a transmon truly a qubit!\n",
    "\n",
    "\n",
    "\n",
    "\n",
    "\n",
    "\n",
    "\n"
   ]
  },
  {
   "cell_type": "markdown",
   "id": "0830f251-918c-4fb2-83b8-1a0ffecc6190",
   "metadata": {},
   "source": [
    "### 3. Implementation\n",
    "\n",
    "The code for solving the Hamiltonian is borrowed from [6] I added some docstrings, or comments before each section of the code to help myself understand what is happening in the code."
   ]
  },
  {
   "cell_type": "code",
   "execution_count": 5,
   "id": "1212e258-0352-431c-b46f-7136f55f8d3c",
   "metadata": {},
   "outputs": [],
   "source": [
    "\"\"\"\n",
    "Import the standard library for python and the plotting tools.\n",
    "\"\"\"\n",
    "\n",
    "import numpy as np\n",
    "import matplotlib.pyplot as plt\n",
    "\n",
    "\"\"\"\n",
    "These are the standard energy scales for Ej and w, in a transmon.\n",
    "The resonant frequency in transmon is in the range of GHZ, or microwave regime.\n",
    "\"\"\"\n",
    "\n",
    "E_J = 20e9\n",
    "w = 5e9\n",
    "anharm = -300e6\n",
    "\n",
    "N_phis = 101\n",
    "phis = np.linspace(-np.pi,np.pi,N_phis)\n",
    "mid_idx = int((N_phis+1)/2)\n",
    "\n",
    "\"\"\"\n",
    "Potential energies of the QHO & transmon, we did not mention it in the report yet, \n",
    "but the second terms in their Hamiltonian are called the potential energies, \n",
    "due to analogy with a simple harmonic oscillator's Hamiltonian.\n",
    "The potential energy curves will be plotted later along with the energy levels of the eigenstates.\n",
    "\"\"\"\n",
    "\n",
    "U_QHO = 0.5*E_J*phis**2\n",
    "U_QHO = U_QHO/w\n",
    "U_transmon = (E_J-E_J*np.cos(phis))\n",
    "U_transmon = U_transmon/w"
   ]
  },
  {
   "cell_type": "markdown",
   "id": "c4f43bb1-cce6-43c1-9aff-6b237b575834",
   "metadata": {},
   "source": [
    "Before going to the next section where we put in the Hamiltonian and solve it, there is still some more mathematics we need to do. (The theoretical part of transmon is very convoluted!)The hamiltonian of a simple harmonic oscillator is solved with the help of what's called creation and annihilation operators, they are powerful tools in quantum mechanics that will see extensive use not just in simple harmonic oscillator. The Hamiltonians for the LC circuit and transmon, are also expressed in creation and annihilation operators. We have to once again reexpress our Hamiltonians as follows.\n",
    "\n",
    "\n",
    "\n",
    "Replacing our $\\hat{n}$ and $\\hat{\\Phi}$ operators with creation and annihilation operators $\\hat{c}^\\dagger$ and $\\hat{c}$ according to: \n",
    "\n",
    "$$ \\hat{n} = i n_{\\mathrm z}(\\hat{c}^\\dagger - \\hat{c}) \\quad \\mathrm{and} \\quad \n",
    "   \\hat{\\phi} = \\phi_{\\mathrm z}(\\hat{c}^\\dagger + \\hat{c}), \\qquad \\mathrm{where} \\quad \n",
    "   n_\\mathrm{z} = \\left( \\frac{E_J}{32 E_c} \\right)^{1/4} \\quad \\mathrm{and} \\quad\n",
    "   \\phi_{\\mathrm{z}} = \\left(\\frac{2 E_c}{E_J}\\right)^{1/4},\n",
    "$$\n",
    "\n",
    "\n",
    "The the Hamiltonian for the LC circuit and transmon are respectively: \n",
    "\n",
    "$$\n",
    "\\hat{H}_{\\rm LC} = \\omega \\hat{c}^\\dagger \\hat{c}\n",
    "$$\n",
    "\n",
    "$$\n",
    "\\hat{H}_{\\rm transmon} = \\omega \\hat{c}^\\dagger \\hat{c} + \\frac{\\delta}{2} \\hat{c}^\\dagger \\hat{c} (\\hat{c}^\\dagger \\hat{c} - 1)\n",
    "$$\n",
    "\n",
    "Where $\\omega = \\sqrt{8 E_c E_J}$ and $\\delta = -E_c$ ,\n",
    "\n",
    "The creation and annihilation operators does make our Hamiltonian neater so it is worth the effort (in fact there is assumption made in arriving at the nice-looking Hamiltonian for transmon, we have to make use of rotating wave approximation. But to keep the report brief we won't delve into it.) And we can see, differing from the Hamiltonian for the LC circuit, the Hamiltonian for transmon has an additional term $\\frac{\\delta}{2} \\hat{c}^\\dagger \\hat{c} (\\hat{c}^\\dagger \\hat{c} - 1)$ This makes its behavior deviate from the behavior of a harmonic oscillator like the LC circuit. Hence, the quantity $\\delta$ is called the transmon anharmonicity. \n",
    "\n",
    "Now we write the python code and put in the Hamiltonian. We will use a library called Qutip (https://qutip.org/ [9])to solve the Eigenvalue problems for our Hamiltonians."
   ]
  },
  {
   "cell_type": "code",
   "execution_count": 4,
   "id": "7a3bcc58-bda3-4cf6-a601-d1711c8c98a3",
   "metadata": {},
   "outputs": [
    {
     "name": "stdout",
     "output_type": "stream",
     "text": [
      "Requirement already satisfied: qutip in /results/.local/lib/python3.9/site-packages (4.6.2)\n",
      "Requirement already satisfied: numpy>=1.16.6 in /usr/local/lib/python3.9/dist-packages (from qutip) (1.21.2)\n",
      "Requirement already satisfied: packaging in /usr/lib/python3/dist-packages (from qutip) (20.9)\n",
      "Requirement already satisfied: scipy>=1.0 in /usr/lib/python3/dist-packages (from qutip) (1.6.0)\n"
     ]
    }
   ],
   "source": [
    "\"\"\"\n",
    "If Qutip is not yet installed in the coding environment, \n",
    "we need to install it by simply typing the following command then restart the kernel of this Jupyter notebook.\n",
    "\"\"\"\n",
    "\n",
    "!pip install qutip"
   ]
  },
  {
   "cell_type": "code",
   "execution_count": 11,
   "id": "680de35f-e5dd-473d-a4fd-3fa6a057523f",
   "metadata": {},
   "outputs": [
    {
     "name": "stdout",
     "output_type": "stream",
     "text": [
      "[0.0e+00 5.0e+09 1.0e+10 1.5e+10]\n",
      "[0.0e+00 1.7e+09 5.0e+09 6.6e+09]\n"
     ]
    }
   ],
   "source": [
    "from qutip import destroy\n",
    "\n",
    "\"\"\"\n",
    "In fact I'm not too familiar with Qutip. I don't know why N is defined as 35 and N_energies is defined as 5. \n",
    "Maybe this is an upper limit on the number of energy levels to calculate, we will only calculate up to N = 35.\n",
    "Otherwise the code may run forever?\n",
    "The definition of the annihilation operator is quite clear. c is our annihilation operator\n",
    "\n",
    "if we want to name it differently, we could have, for instance:\n",
    "a = destroy(N) \n",
    "\n",
    "Then the creation operator is written as a.dag() in the Hamiltonian.\n",
    "\"\"\"\n",
    "\n",
    "N = 35\n",
    "N_energies = 5\n",
    "c = destroy(N)\n",
    "\n",
    "\"\"\"\n",
    "Writing the Hamiltonian in terms of creation and annihilation operators c.dag() and c\n",
    "\"\"\"\n",
    "\n",
    "H_QHO = w*c.dag()*c\n",
    "E_QHO = H_QHO.eigenenergies()[0:N_energies]\n",
    "H_transmon = w*c.dag()*c + (anharm/2)*(c.dag()*c)*(c.dag()*c - 1)\n",
    "E_transmon = H_transmon.eigenenergies()[0:2*N_energies]\n",
    "\n",
    "\"\"\"\n",
    "Qutip solves for the energy eigenvalues, and print will diplay the result.\n",
    "[:n] where n is the number of energy levels you want it to display, here I choose 4 energy levels for both Hamiltonians.\n",
    "\"\"\"\n",
    "\n",
    "print(E_QHO[:4])\n",
    "print(E_transmon[:4])"
   ]
  },
  {
   "cell_type": "markdown",
   "id": "3ef7c953-a5dd-4e7b-8010-643759382b43",
   "metadata": {},
   "source": [
    "### 4. Result and Discussion\n",
    "\n",
    "We did indeed get some energy eigenvalues solved for us using Qutip!\n",
    "\n",
    "And just looking at the numbers we can immediately notice a difference between the transmon and LC circuit. While the energy levels for the LC circuit are equally spaced, the transmon energy levels are not. And this is the decisive factor that makes the transmon system a qutip! So we are going back to where we started in the begining. a qubit is the quantum mechanical equivalent of a bit in our computer, and it can exist in two possible states. When thr LC circuit is excited, since the excitation energies are the same for adjacent energy levels, there is no stopping the circuit from being excited to level 1, level 2, level 3 etc., the system can be in more than two possible states! Whereas for a transmon, if we just tune our excitation frequency to that of ground state to level 1 energy state excitation $\\omega_{\\rm 01}$ we can be sure that the system can only be excited to level 1, and not the other energy levels.\n",
    "\n",
    "The use of the Josephson junction's non-linearity, or anharmonicity, whichever term you wish to call it, made sure that we truly have a quibit system!\n",
    "\n",
    "\n"
   ]
  },
  {
   "cell_type": "code",
   "execution_count": 13,
   "id": "900f08d8-8770-4185-9491-c39d3e922433",
   "metadata": {},
   "outputs": [
    {
     "data": {
      "text/plain": [
       "<matplotlib.legend.Legend at 0x7f1a7bc71a90>"
      ]
     },
     "execution_count": 13,
     "metadata": {},
     "output_type": "execute_result"
    },
    {
     "data": {
      "image/png": "[encoded data removed]",
      "text/plain": [
       "<Figure size 432x432 with 1 Axes>"
      ]
     },
     "metadata": {
      "needs_background": "light"
     },
     "output_type": "display_data"
    }
   ],
   "source": [
    "\"\"\"\n",
    "We could plot the energy levels, again the code is borrowed from:\n",
    "https://qiskit.org/textbook/ch-quantum-hardware/transmon-physics.html [6]\n",
    "\"\"\"\n",
    "\n",
    "fig, axes = plt.subplots(1, 1, figsize=(6,6))\n",
    "\n",
    "axes.plot(phis, U_transmon, '-', color='orange', linewidth=3.0)\n",
    "axes.plot(phis, U_QHO, '--', color='blue', linewidth=3.0)\n",
    "\n",
    "for eidx in range(1,N_energies):\n",
    "    delta_E_QHO = (E_QHO[eidx]-E_QHO[0])/w\n",
    "    delta_E_transmon = (E_transmon[2*eidx]-E_transmon[0])/w\n",
    "    QHO_lim_idx = min(np.where(U_QHO[int((N_phis+1)/2):N_phis] > delta_E_QHO)[0])\n",
    "    trans_lim_idx = min(np.where(U_transmon[int((N_phis+1)/2):N_phis] > delta_E_transmon)[0])\n",
    "    trans_label, = axes.plot([phis[mid_idx-trans_lim_idx-1], phis[mid_idx+trans_lim_idx-1]], \\\n",
    "                             [delta_E_transmon, delta_E_transmon], '-', color='orange', linewidth=3.0)\n",
    "    qho_label, = axes.plot([phis[mid_idx-QHO_lim_idx-1], phis[mid_idx+QHO_lim_idx-1]], \\\n",
    "                           [delta_E_QHO, delta_E_QHO], '--', color='blue', linewidth=3.0)\n",
    "    \n",
    "axes.set_xlabel('$\\phi$', fontsize=24)\n",
    "axes.set_ylabel('Energy Levels / $\\hbar\\omega$', fontsize=24)\n",
    "axes.set_ylim(-0.2,5)\n",
    "\n",
    "qho_label.set_label('QHO Energies')\n",
    "trans_label.set_label('Transmon Energies')\n",
    "axes.legend(loc=2, fontsize=14)"
   ]
  },
  {
   "cell_type": "markdown",
   "id": "13175053-723b-4b01-95c5-311442a98188",
   "metadata": {},
   "source": [
    "From the figure above, the energy levels of the LC circuit which is in blue is clearly evenly distributed, whereas the energy levels of the transmon which is in orange is not. The potential energy curve of the transmon also deviates from the quadratic curve of the LC circuit. In fact the potential energy of the transmon goes as cos$\\Phi$."
   ]
  },
  {
   "cell_type": "markdown",
   "id": "616f1d62-ca23-4a49-9ee8-51df82493132",
   "metadata": {},
   "source": [
    "You might be interested to know what causes these excitations, in other words, how do we control the transmon qubits? It turns out that they're controlled by microwave signals that are delievered along a coaxial cable much like the TV cables we have at home, (except it is 2D) and it consists of an inner core and an outer shield. So we get back to the mystery of why transmon has such a long name \"transmission line shunted plasma oscillation qubit\". It is controlled by microwave signals delievered along a transmission line such as a coaxial cable, hence the first part of the name \"transmission line\". It is shunted by other electrical components to couple it to the transmission line more effectively, and it is an oscillator with two possible states if we tune our microwave signal just right, so it is a qubit.\n",
    "\n",
    "Comparing it to the other past attempts at creating a qubit, transmon has the advantage that it is insensitive to environmental noise. The earliest attempt to create a qubit is to use what is called a Cooper pair box.But the quantum state is unstable.(https://en.wikipedia.org/wiki/Transmon [10]) Later researchers were able to figure out that the $\\frac{E_J}{E_c}$ value in the Hamiltonian plays a big role in the sensitivity of the system to the environment. In short the bigger the value of $\\frac{E_J}{E_c}$ the lower the sensitivity, and to achieve that, we make the capacitance really high, so $E_c$ being inversely proportional to the capacitance, will become smaller. \n",
    "\n",
    "Gradually the Cooper pair box and other earlier attempts were all superceded by transmon, today the IBM quantum computer system uses transmon. :) (https://www.ibm.com/quantum-computing/quantum-computing-at-ibm/ [11])\n",
    "\n",
    "Finally let's take a look at an actual transmon...\n",
    "</p>\n",
    "\n",
    "<img src=\"./transmon_real.png\" alt=\"LC\" width=\"200\"/>\n",
    "(Image 5. An actual transmon. Image is from \"Quantum Computing Circuits and Devices\" by Travis S. Humble et al.,IEEE Design & Test ( Volume: 36, Issue: 3, June 2019)[12])\n",
    "</p>\n",
    "\n",
    "The tiny middle part circled by the blue box is the Josephson junction, and the huge teeth-like structure is the capacitor connected in parallel to the Josephson junction. It is teeth-like to increase its capacitance. And for bueauty sake, we put the Josephson junction right in the middle of the capacitor rather than at the side of it like what we have shown in the circuit diagram. "
   ]
  },
  {
   "cell_type": "code",
   "execution_count": null,
   "id": "5b8fddef-2c30-45f1-8756-362ebd897c37",
   "metadata": {},
   "outputs": [],
   "source": []
  }
 ],
 "metadata": {
  "kernelspec": {
   "display_name": "Python 3 (ipykernel)",
   "language": "python",
   "name": "python3"
  },
  "language_info": {
   "codemirror_mode": {
    "name": "ipython",
    "version": 3
   },
   "file_extension": ".py",
   "mimetype": "text/x-python",
   "name": "python",
   "nbconvert_exporter": "python",
   "pygments_lexer": "ipython3",
   "version": "3.9.5"
  }
 },
 "nbformat": 4,
 "nbformat_minor": 5
}
