{
 "cells": [
  {
   "cell_type": "markdown",
   "id": "a8344b56-acc1-4b95-a97f-1b1ecf5142ef",
   "metadata": {},
   "source": [
    "## A Brief Introuction to Transmon in Quantum Computing"
   ]
  },
  {
   "cell_type": "markdown",
   "id": "04f85844-a8ca-44ae-bcf4-ff8de1bfb717",
   "metadata": {},
   "source": [
    "### Introuction\n",
    "\n",
    "This is our first draft. Before we give an introduction, I'll jump straight to the code first, since I want to make sure that the code we found online does work. Then I will come back to give an introuduction.  "
   ]
  },
  {
   "cell_type": "markdown",
   "id": "de425064-fbf6-4659-8ea8-8a6d9a525acc",
   "metadata": {},
   "source": [
    "### Implementation\n",
    "\n",
    "The following the code we intend to use in our project, it is copied from https://qiskit.org/textbook/ch-quantum-hardware/transmon-physics.html. We shall try to understand what goes on in this code :P Then we will try to modify it to give us the results we're interetsed in. "
   ]
  },
  {
   "cell_type": "code",
   "execution_count": 5,
   "id": "9c58d6f1-7dcd-483a-90ef-4a4c02eaa6e7",
   "metadata": {},
   "outputs": [
    {
     "name": "stderr",
     "output_type": "stream",
     "text": [
      "ibmqfactory.load_account:WARNING:2021-10-24 22:04:10,362: Credentials are already in use. The existing account in the session will be replaced.\n"
     ]
    }
   ],
   "source": [
    "import numpy as np\n",
    "\n",
    "# Importing standard Qiskit libraries\n",
    "from qiskit import QuantumCircuit, transpile, Aer, IBMQ\n",
    "from qiskit.tools.jupyter import *\n",
    "from qiskit.visualization import *\n",
    "from ibm_quantum_widgets import *\n",
    "from qiskit.providers.aer import QasmSimulator\n",
    "\n",
    "# Loading your IBM Quantum account(s)\n",
    "provider = IBMQ.load_account()"
   ]
  },
  {
   "cell_type": "code",
   "execution_count": 6,
   "id": "87b9cdfc-9213-4c68-aa34-2d8f347cbb84",
   "metadata": {},
   "outputs": [],
   "source": [
    "import numpy as np\n",
    "import matplotlib.pyplot as plt\n",
    "\n",
    "E_J = 20e9\n",
    "w = 5e9\n",
    "anharm = -300e6\n",
    "\n",
    "N_phis = 101\n",
    "phis = np.linspace(-np.pi,np.pi,N_phis)\n",
    "mid_idx = int((N_phis+1)/2)\n",
    "\n",
    "# potential energies of the QHO & transmon\n",
    "U_QHO = 0.5*E_J*phis**2\n",
    "U_QHO = U_QHO/w\n",
    "U_transmon = (E_J-E_J*np.cos(phis))\n",
    "U_transmon = U_transmon/w"
   ]
  },
  {
   "cell_type": "code",
   "execution_count": 3,
   "id": "a554e09b-057b-408f-8faf-a0063878590b",
   "metadata": {},
   "outputs": [
    {
     "name": "stdout",
     "output_type": "stream",
     "text": [
      "Requirement already satisfied: qutip in /opt/conda/lib/python3.8/site-packages (4.6.2)\n",
      "Requirement already satisfied: scipy>=1.0 in /opt/conda/lib/python3.8/site-packages (from qutip) (1.7.1)\n",
      "Requirement already satisfied: numpy>=1.16.6 in /opt/conda/lib/python3.8/site-packages (from qutip) (1.21.2)\n",
      "Requirement already satisfied: packaging in /opt/conda/lib/python3.8/site-packages (from qutip) (21.0)\n",
      "Requirement already satisfied: pyparsing>=2.0.2 in /opt/conda/lib/python3.8/site-packages (from packaging->qutip) (2.4.7)\n"
     ]
    }
   ],
   "source": [
    "!pip install qutip "
   ]
  },
  {
   "cell_type": "code",
   "execution_count": 8,
   "id": "02c07a43-41dd-48cd-92cf-0903a75c2ca6",
   "metadata": {},
   "outputs": [
    {
     "name": "stdout",
     "output_type": "stream",
     "text": [
      "[0.0e+00 5.0e+09 1.0e+10 1.5e+10]\n",
      "[0.00e+00 1.70e+09 5.00e+09 6.60e+09 9.70e+09 1.12e+10 1.41e+10 1.55e+10]\n"
     ]
    }
   ],
   "source": [
    "from qutip import destroy\n",
    "N = 35\n",
    "N_energies = 5\n",
    "c = destroy(N)\n",
    "H_QHO = w*c.dag()*c\n",
    "E_QHO = H_QHO.eigenenergies()[0:N_energies]\n",
    "H_transmon = w*c.dag()*c + (anharm/2)*(c.dag()*c)*(c.dag()*c - 1)\n",
    "E_transmon = H_transmon.eigenenergies()[0:2*N_energies]\n",
    "print(E_QHO[:4])\n",
    "print(E_transmon[:8])"
   ]
  },
  {
   "cell_type": "code",
   "execution_count": null,
   "id": "5c85417d-1cd4-429b-bad4-7bedf7e95b96",
   "metadata": {},
   "outputs": [],
   "source": []
  }
 ],
 "metadata": {
  "kernelspec": {
   "display_name": "Qiskit v0.31.0 (ipykernel)",
   "language": "python",
   "name": "python3"
  },
  "language_info": {
   "codemirror_mode": {
    "name": "ipython",
    "version": 3
   },
   "file_extension": ".py",
   "mimetype": "text/x-python",
   "name": "python",
   "nbconvert_exporter": "python",
   "pygments_lexer": "ipython3",
   "version": "3.8.10"
  },
  "widgets": {
   "application/vnd.jupyter.widget-state+json": {
    "state": {
     "00005d763e104977ac6baff4ef7f7e2f": {
      "model_module": "@jupyter-widgets/controls",
      "model_module_version": "1.5.0",
      "model_name": "HTMLModel",
      "state": {
       "layout": "IPY_MODEL_7ce42bca116d4cbe9f84b63e994b7589",
       "style": "IPY_MODEL_d93354ef796f4c9ea40d8afa58f9a801",
       "value": "<h5>Job ID</h5>"
      }
     },
     "0503750d829c439c8ecd68fe0860e135": {
      "model_module": "@jupyter-widgets/controls",
      "model_module_version": "1.5.0",
      "model_name": "HTMLModel",
      "state": {
       "layout": "IPY_MODEL_2ad17af793174df6a40c7dc053265d7f",
       "style": "IPY_MODEL_da8055727e4c40e5a4250137ec4661c4",
       "value": "<h5>Status</h5>"
      }
     },
     "1c8a349003614709b7a523c0420e6806": {
      "model_module": "@jupyter-widgets/base",
      "model_module_version": "1.2.0",
      "model_name": "LayoutModel",
      "state": {
       "width": "145px"
      }
     },
     "1fa091d901004872bbcc1e67cac0aa70": {
      "model_module": "@jupyter-widgets/controls",
      "model_module_version": "1.5.0",
      "model_name": "HTMLModel",
      "state": {
       "layout": "IPY_MODEL_6e7c6bcda834419f9b27e676410f4864",
       "style": "IPY_MODEL_4f865f6e6e97469687aaf16665a653e2",
       "value": "<h5>Message</h5>"
      }
     },
     "2ad17af793174df6a40c7dc053265d7f": {
      "model_module": "@jupyter-widgets/base",
      "model_module_version": "1.2.0",
      "model_name": "LayoutModel",
      "state": {
       "width": "95px"
      }
     },
     "2ea96696c46f4afeab7d850294c5f0f7": {
      "model_module": "@jupyter-widgets/controls",
      "model_module_version": "1.5.0",
      "model_name": "DescriptionStyleModel",
      "state": {
       "description_width": ""
      }
     },
     "468c283ff36742efb955de705ff3a6be": {
      "model_module": "@jupyter-widgets/controls",
      "model_module_version": "1.5.0",
      "model_name": "DescriptionStyleModel",
      "state": {
       "description_width": ""
      }
     },
     "4e787101243740b1989ca7d8b716da62": {
      "model_module": "@jupyter-widgets/controls",
      "model_module_version": "1.5.0",
      "model_name": "GridBoxModel",
      "state": {
       "children": [
        "IPY_MODEL_d86cc6cf275740f18cb6180303fe22f4"
       ],
       "layout": "IPY_MODEL_9520e5cfa0014eadaa5412fbf37aa786"
      }
     },
     "4ebc7b7af55d4483bb5c141d9b7590d6": {
      "model_module": "@jupyter-widgets/controls",
      "model_module_version": "1.5.0",
      "model_name": "ButtonStyleModel",
      "state": {}
     },
     "4f865f6e6e97469687aaf16665a653e2": {
      "model_module": "@jupyter-widgets/controls",
      "model_module_version": "1.5.0",
      "model_name": "DescriptionStyleModel",
      "state": {
       "description_width": ""
      }
     },
     "6e7c6bcda834419f9b27e676410f4864": {
      "model_module": "@jupyter-widgets/base",
      "model_module_version": "1.2.0",
      "model_name": "LayoutModel",
      "state": {}
     },
     "7ce42bca116d4cbe9f84b63e994b7589": {
      "model_module": "@jupyter-widgets/base",
      "model_module_version": "1.2.0",
      "model_name": "LayoutModel",
      "state": {
       "width": "190px"
      }
     },
     "81cbea26c66549b2872c58d3e12ec0ad": {
      "model_module": "@jupyter-widgets/base",
      "model_module_version": "1.2.0",
      "model_name": "LayoutModel",
      "state": {
       "margin": "0px 0px 0px 37px",
       "width": "600px"
      }
     },
     "833bbde781304dff81518c4e8517f121": {
      "model_module": "@jupyter-widgets/controls",
      "model_module_version": "1.5.0",
      "model_name": "HTMLModel",
      "state": {
       "layout": "IPY_MODEL_1c8a349003614709b7a523c0420e6806",
       "style": "IPY_MODEL_2ea96696c46f4afeab7d850294c5f0f7",
       "value": "<h5>Backend</h5>"
      }
     },
     "9520e5cfa0014eadaa5412fbf37aa786": {
      "model_module": "@jupyter-widgets/base",
      "model_module_version": "1.2.0",
      "model_name": "LayoutModel",
      "state": {
       "grid_template_areas": "\n                                       \". . . . right \"\n                                        ",
       "grid_template_columns": "20% 20% 20% 20% 20%",
       "width": "100%"
      }
     },
     "9f2a08d405ef44668aef97e0773d72fc": {
      "model_module": "@jupyter-widgets/base",
      "model_module_version": "1.2.0",
      "model_name": "LayoutModel",
      "state": {
       "margin": "0px 0px 10px 0px"
      }
     },
     "d86cc6cf275740f18cb6180303fe22f4": {
      "model_module": "@jupyter-widgets/controls",
      "model_module_version": "1.5.0",
      "model_name": "ButtonModel",
      "state": {
       "button_style": "primary",
       "description": "Clear",
       "layout": "IPY_MODEL_dab773248b6b47489143dec284cbfc6c",
       "style": "IPY_MODEL_4ebc7b7af55d4483bb5c141d9b7590d6"
      }
     },
     "d93354ef796f4c9ea40d8afa58f9a801": {
      "model_module": "@jupyter-widgets/controls",
      "model_module_version": "1.5.0",
      "model_name": "DescriptionStyleModel",
      "state": {
       "description_width": ""
      }
     },
     "da8055727e4c40e5a4250137ec4661c4": {
      "model_module": "@jupyter-widgets/controls",
      "model_module_version": "1.5.0",
      "model_name": "DescriptionStyleModel",
      "state": {
       "description_width": ""
      }
     },
     "dab773248b6b47489143dec284cbfc6c": {
      "model_module": "@jupyter-widgets/base",
      "model_module_version": "1.2.0",
      "model_name": "LayoutModel",
      "state": {
       "grid_area": "right",
       "padding": "0px 0px 0px 0px",
       "width": "70px"
      }
     },
     "e36b127427be46158bf6df00f80b271b": {
      "model_module": "@jupyter-widgets/base",
      "model_module_version": "1.2.0",
      "model_name": "LayoutModel",
      "state": {
       "width": "70px"
      }
     },
     "ededd00fd5614fdfb677cc76a92d6fe8": {
      "model_module": "@jupyter-widgets/controls",
      "model_module_version": "1.5.0",
      "model_name": "DescriptionStyleModel",
      "state": {
       "description_width": ""
      }
     },
     "efc8d1261d704e6e8826c73158ceea98": {
      "model_module": "@jupyter-widgets/controls",
      "model_module_version": "1.5.0",
      "model_name": "HTMLModel",
      "state": {
       "layout": "IPY_MODEL_9f2a08d405ef44668aef97e0773d72fc",
       "style": "IPY_MODEL_468c283ff36742efb955de705ff3a6be",
       "value": "<p style='font-family: IBM Plex Sans, Arial, Helvetica, sans-serif; font-size: 20px; font-weight: medium;'>Circuit Properties</p>"
      }
     },
     "f6d1f237768b449f80570c01fa6fe51f": {
      "model_module": "@jupyter-widgets/controls",
      "model_module_version": "1.5.0",
      "model_name": "HBoxModel",
      "state": {
       "children": [
        "IPY_MODEL_00005d763e104977ac6baff4ef7f7e2f",
        "IPY_MODEL_833bbde781304dff81518c4e8517f121",
        "IPY_MODEL_0503750d829c439c8ecd68fe0860e135",
        "IPY_MODEL_fda9f12f0896441cb83057edf559d691",
        "IPY_MODEL_1fa091d901004872bbcc1e67cac0aa70"
       ],
       "layout": "IPY_MODEL_81cbea26c66549b2872c58d3e12ec0ad"
      }
     },
     "fda9f12f0896441cb83057edf559d691": {
      "model_module": "@jupyter-widgets/controls",
      "model_module_version": "1.5.0",
      "model_name": "HTMLModel",
      "state": {
       "layout": "IPY_MODEL_e36b127427be46158bf6df00f80b271b",
       "style": "IPY_MODEL_ededd00fd5614fdfb677cc76a92d6fe8",
       "value": "<h5>Queue</h5>"
      }
     }
    },
    "version_major": 2,
    "version_minor": 0
   }
  }
 },
 "nbformat": 4,
 "nbformat_minor": 5
}
